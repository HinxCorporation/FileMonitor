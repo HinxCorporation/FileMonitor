{
 "cells": [
  {
   "cell_type": "markdown",
   "source": [
    "加载模型并且测试模型"
   ],
   "metadata": {
    "collapsed": false
   },
   "id": "bace108b947b5a0a"
  },
  {
   "cell_type": "code",
   "execution_count": null,
   "id": "initial_id",
   "metadata": {
    "collapsed": true
   },
   "source": [
    "from AIWorker import DlistWorker\n",
    "from tool.Logging import Log"
   ],
   "outputs": []
  },
  {
   "cell_type": "code",
   "source": [
    "# 这是Dlist worker的测试程序.\n",
    "worker = DlistWorker()\n",
    "test_file = 'dlist/rebuild_0.dlist.done'\n",
    "\n",
    "worker.i_process_file(test_file)\n",
    "Log.logger.info('Debug finished.')"
   ],
   "metadata": {
    "collapsed": false
   },
   "id": "321e870360288c17",
   "execution_count": null,
   "outputs": []
  },
  {
   "cell_type": "markdown",
   "source": [
    "测试的rebuild.0.dlist内容如下\n",
    "```dlist\n",
    "{\"op\": \"insert\", \"is_file\": false, \"path\": \"F:\\\\Root\\\\volume-Files\\\\History_01\",\"cid\": \"43ee314e9fac1a405ac5394426076171\"}\n",
    "{\"op\": \"insert\", \"is_file\": true,\"path\": \"F:\\\\Root\\\\volume-Files\\\\History_01\\\\table.xlsx\", \"cid\": \"000\"}\n",
    "```"
   ],
   "metadata": {
    "collapsed": false
   },
   "id": "f5c0ea7e7e2af8c7"
  }
 ],
 "metadata": {
  "kernelspec": {
   "display_name": "Python 3",
   "language": "python",
   "name": "python3"
  },
  "language_info": {
   "codemirror_mode": {
    "name": "ipython",
    "version": 2
   },
   "file_extension": ".py",
   "mimetype": "text/x-python",
   "name": "python",
   "nbconvert_exporter": "python",
   "pygments_lexer": "ipython2",
   "version": "2.7.6"
  }
 },
 "nbformat": 4,
 "nbformat_minor": 5
}
