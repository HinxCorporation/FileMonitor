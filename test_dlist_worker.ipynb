{
 "cells": [
  {
   "cell_type": "markdown",
   "source": [
    "加载模型并且测试模型"
   ],
   "metadata": {
    "collapsed": false
   },
   "id": "bace108b947b5a0a"
  },
  {
   "cell_type": "code",
   "id": "initial_id",
   "metadata": {
    "collapsed": true
   },
   "source": [
    "from AIWorker import DlistWorker\n",
    "from tool.Logging import Log"
   ],
   "outputs": [],
   "execution_count": null
  },
  {
   "cell_type": "code",
   "source": [
    "# 这是Dlist worker的测试程序.\n",
    "worker = DlistWorker()\n",
    "test_file = 'dlist/rebuild_0.dlist.done'\n",
    "\n",
    "worker.i_process_file(test_file)\n",
    "Log.logger.info('Debug finished.')"
   ],
   "metadata": {
    "collapsed": false
   },
   "id": "321e870360288c17",
   "outputs": [],
   "execution_count": null
  },
  {
   "cell_type": "markdown",
   "source": [
    "测试的rebuild.0.dlist内容如下\n",
    "```dlist\n",
    "{\"op\": \"insert\", \"is_file\": false, \"path\": \"F:\\\\Root\\\\volume-Files\\\\History_01\",\"cid\": \"43ee314e9fac1a405ac5394426076171\"}\n",
    "{\"op\": \"insert\", \"is_file\": true,\"path\": \"F:\\\\Root\\\\volume-Files\\\\History_01\\\\table.xlsx\", \"cid\": \"000\"}\n",
    "```"
   ],
   "metadata": {
    "collapsed": false
   },
   "id": "f5c0ea7e7e2af8c7"
  },
  {
   "metadata": {
    "ExecuteTime": {
     "end_time": "2024-06-07T05:35:56.994021Z",
     "start_time": "2024-06-07T05:35:56.947263Z"
    }
   },
   "cell_type": "code",
   "source": [
    "from module_fs import *\n",
    "from tqdm import tqdm\n",
    "\n",
    "cd = os.getcwd()\n",
    "\n",
    "tqs = tqdm(desc='travel files',unit='file', unit_scale=True, unit_divisor=1000)\n",
    "def print_names(path):\n",
    "    tqs.update(1)\n",
    "    if os.path.isfile(path):\n",
    "        return\n",
    "    # print(path)\n",
    "    folder,name = os.path.split(path)\n",
    "    print(name)\n",
    "\n",
    "travel_folder(cd,print_names,None,False)"
   ],
   "id": "f7b092bc9b9242b3",
   "outputs": [
    {
     "name": "stderr",
     "output_type": "stream",
     "text": [
      "travel files: 0.00file [00:00, ?file/s]"
     ]
    },
    {
     "name": "stdout",
     "output_type": "stream",
     "text": [
      "AIWorker\n",
      "Config\n",
      "dlist\n",
      "log\n",
      "module_db\n",
      "module_fs\n",
      "module_op\n",
      "module_scan\n",
      "notes\n",
      "tool\n",
      "venv\n"
     ]
    }
   ],
   "execution_count": 1
  }
 ],
 "metadata": {
  "kernelspec": {
   "display_name": "Python 3",
   "language": "python",
   "name": "python3"
  },
  "language_info": {
   "codemirror_mode": {
    "name": "ipython",
    "version": 2
   },
   "file_extension": ".py",
   "mimetype": "text/x-python",
   "name": "python",
   "nbconvert_exporter": "python",
   "pygments_lexer": "ipython2",
   "version": "2.7.6"
  }
 },
 "nbformat": 4,
 "nbformat_minor": 5
}
